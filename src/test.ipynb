{
 "cells": [
  {
   "cell_type": "code",
   "execution_count": 1,
   "id": "e4d2002d",
   "metadata": {},
   "outputs": [],
   "source": [
    "import torch\n",
    "import os\n",
    "import json\n",
    "import pandas as pd\n",
    "from torch.utils.data import DataLoader, TensorDataset\n",
    "import torch.nn as nn\n",
    "import matplotlib.pyplot as plt\n",
    "import numpy as np"
   ]
  },
  {
   "cell_type": "code",
   "execution_count": null,
   "id": "65421fbd",
   "metadata": {},
   "outputs": [],
   "source": [
    "def load_dataset(csv_dir, json_path):\n",
    "    # 1. JSON読み込みと辞書化\n",
    "    with open(json_path, 'r') as f:\n",
    "        json_data = json.load(f)\n",
    "    \n",
    "    rgb_dict = {item[\"filename\"]: item[\"real_rgb\"] for item in json_data}\n",
    "\n",
    "    # 2. 特徴量とラベルの蓄積\n",
    "    X_list = []\n",
    "    y_list = []\n",
    "\n",
    "    for filename in os.listdir(csv_dir):\n",
    "        if not filename.endswith(\"_masked.csv\"):\n",
    "            continue\n",
    "\n",
    "        base_id = filename.replace(\"_masked.csv\", \"\")  # 例: 8D5U5524\n",
    "\n",
    "        if base_id not in rgb_dict:\n",
    "            print(f\"Warning: {base_id} not in JSON, skipping\")\n",
    "            continue\n",
    "\n",
    "        csv_path = os.path.join(csv_dir, filename)\n",
    "        df = pd.read_csv(csv_path, header=None)\n",
    "\n",
    "        # 特徴量は1行と仮定してflatten\n",
    "        features = df.values.flatten()\n",
    "\n",
    "        X_list.append(features)\n",
    "\n",
    "        # real_rgbからr, gの比率を計算\n",
    "        R, G, B = rgb_dict[base_id]\n",
    "        total = R + G + B if R + G + B != 0 else 1e-6  # 0割防止\n",
    "\n",
    "        r_ratio = R / total\n",
    "        g_ratio = G / total\n",
    "\n",
    "        y_list.append([r_ratio, g_ratio])\n",
    "\n",
    "    # DataFrameに変換\n",
    "    X = pd.DataFrame(X_list)\n",
    "    y = pd.DataFrame(y_list, columns=[\"r_ratio\", \"g_ratio\"])\n",
    "\n",
    "\n",
    "    return X, y"
   ]
  },
  {
   "cell_type": "code",
   "execution_count": 3,
   "id": "b2f832dc",
   "metadata": {},
   "outputs": [
    {
     "name": "stdout",
     "output_type": "stream",
     "text": [
      "(5, 1324)\n",
      "    r_ratio   g_ratio\n",
      "0  0.311968  0.423124\n",
      "1  0.305714  0.425317\n",
      "2  0.366901  0.446526\n",
      "3  0.354669  0.435492\n",
      "4  0.358548  0.439233\n",
      "0       0\n",
      "1       0\n",
      "2       0\n",
      "3       0\n",
      "4       0\n",
      "       ..\n",
      "1319    0\n",
      "1320    0\n",
      "1321    0\n",
      "1322    0\n",
      "1323    0\n",
      "Name: 0, Length: 1324, dtype: int64\n"
     ]
    }
   ],
   "source": [
    "#load_datasetのテスト\n",
    "X, y = load_dataset(csv_dir=\"../histpre/\", json_path=\"../real_rgb.json\")\n",
    "\n",
    "print(X.shape)  # 特徴量の数 x サンプル数\n",
    "print(y.head()) # RGBのターゲット値\n",
    "\n",
    "print(X.iloc[0])  # 1番目のサンプルの特徴量\n"
   ]
  },
  {
   "cell_type": "code",
   "execution_count": 4,
   "id": "6c09d607",
   "metadata": {},
   "outputs": [],
   "source": [
    "class MLPModel(nn.Module):\n",
    "    def __init__(self, input_dim, hidden_dim, output_dim):\n",
    "        super().__init__()\n",
    "        self.hidden = nn.Linear(input_dim, hidden_dim)\n",
    "        self.output = nn.Linear(hidden_dim, output_dim)\n",
    "        self.sigmoid = nn.Sigmoid()  # 出力を0〜1に制限\n",
    "\n",
    "    def forward(self, x):\n",
    "        # 活性化関数は使用せず、線形変換のみ\n",
    "        h = self.hidden(x)  # 隠れ層（線形のみ）\n",
    "        out = self.output(h)  # 出力層（線形）\n",
    "        out = self.sigmoid(out)  # 0〜1に制限\n",
    "        return out\n"
   ]
  },
  {
   "cell_type": "code",
   "execution_count": 5,
   "id": "a31a3871",
   "metadata": {},
   "outputs": [],
   "source": [
    "\n",
    "def euclidean_loss(pred, target):\n",
    "    return torch.sqrt(((pred - target) ** 2).sum(dim=1)).mean()"
   ]
  },
  {
   "cell_type": "code",
   "execution_count": 6,
   "id": "74caf9f0",
   "metadata": {},
   "outputs": [],
   "source": [
    "def mse_chromaticity_loss(pred, target, eps=1e-8):\n",
    "    # クロマティシティ座標に変換：r = R/(R+G+B), g = G/(R+G+B)\n",
    "    pred_sum = pred.sum(dim=1, keepdim=True) + eps\n",
    "    target_sum = target.sum(dim=1, keepdim=True) + eps\n",
    "\n",
    "    pred_chroma = pred[:, :2] / pred_sum  # (r, g)\n",
    "    target_chroma = target[:, :2] / target_sum\n",
    "\n",
    "    loss = ((pred_chroma - target_chroma) ** 2).mean()\n",
    "    return loss\n"
   ]
  },
  {
   "cell_type": "code",
   "execution_count": 7,
   "id": "576a86e1",
   "metadata": {},
   "outputs": [],
   "source": [
    "def train_one_epoch(model, loader, optimizer, loss_fn):\n",
    "    model.train()  # モデルを訓練モードに設定\n",
    "    total_loss = 0.0\n",
    "\n",
    "    for X_batch, y_batch in loader:\n",
    "        optimizer.zero_grad()               # 勾配をリセット\n",
    "        pred = model(X_batch)               # 順伝播\n",
    "        loss = loss_fn(pred, y_batch)       # 損失計算\n",
    "        loss.backward()                     # 逆伝播\n",
    "        optimizer.step()                    # パラメータ更新\n",
    "\n",
    "        total_loss += loss.item()           # 損失を蓄積\n",
    "\n",
    "    average_loss = total_loss / len(loader)  # バッチ数で割る\n",
    "    return average_loss"
   ]
  },
  {
   "cell_type": "code",
   "execution_count": 8,
   "id": "94de0686",
   "metadata": {},
   "outputs": [],
   "source": [
    "def evaluate(model, loader, loss_fn):\n",
    "    model.eval()  # 評価モードに切り替え\n",
    "    total_loss = 0.0\n",
    "\n",
    "    with torch.no_grad():  # 勾配を計算しない（メモリ節約＆高速化）\n",
    "        for X_batch, y_batch in loader:\n",
    "            pred = model(X_batch)\n",
    "            loss = loss_fn(pred, y_batch)\n",
    "            total_loss += loss.item()\n",
    "\n",
    "    average_loss = total_loss / len(loader)\n",
    "    return average_loss"
   ]
  },
  {
   "cell_type": "code",
   "execution_count": 9,
   "id": "c7165637",
   "metadata": {},
   "outputs": [],
   "source": [
    "def main():\n",
    "    # 1. モデル構造の再定義（構造は学習と同じに！）\n",
    "    model = MLPModel(input_dim=1324, hidden_dim=256, output_dim=2)\n",
    "    model.load_state_dict(torch.load(\"mlp_model.pth\"))\n",
    "    model.eval()\n",
    "\n",
    "    # 2. テストデータの読み込み\n",
    "    X_test_df, y_test_df = load_dataset(\"../src\", \"../real_rgb.json\")\n",
    "    X_test = torch.tensor(X_test_df.values, dtype=torch.float32)\n",
    "    y_test = torch.tensor(y_test_df[[\"r_ratio\", \"g_ratio\"]].values, dtype=torch.float32)\n",
    "\n",
    "    test_dataset = TensorDataset(X_test, y_test)\n",
    "    test_loader = DataLoader(test_dataset, batch_size=32, shuffle=False)\n",
    "\n",
    "    # 3. 評価実行（クロマティシティMSE）\n",
    "    test_loss = evaluate(model, test_loader, mse_chromaticity_loss)\n",
    "    print(f\"📊 Test Loss = {test_loss:.4f}\")\n",
    "\n",
    "    # 4. 予測と実際のRGB値の表示（5件だけ例として）\n",
    "    print(\"\\n🎨 Prediction vs Actual (first 5 samples):\")\n",
    "    \n",
    "    num_samples = min(5, len(X_test))  # データ数に合わせる\n",
    "    with torch.no_grad():\n",
    "        for i in range(num_samples):\n",
    "            x = X_test[i].unsqueeze(0)  # shape: (1, input_dim)\n",
    "            pred = model(x)[0]          # クロマティシティ座標 (r, g)\n",
    "\n",
    "            # モデル出力（r_pred, g_pred）\n",
    "            r_pred, g_pred = pred[0].item(), pred[1].item()\n",
    "\n",
    "            # 正解ラベル（r_true, g_true）はすでに比率\n",
    "            r_true, g_true = y_test[i].numpy()\n",
    "\n",
    "            print(f\"{i+1}: Pred (r, g): ({r_pred:.4f}, {g_pred:.4f}) | True (r, g): ({r_true:.4f}, {g_true:.4f})\")\n"
   ]
  },
  {
   "cell_type": "code",
   "execution_count": 10,
   "id": "c79233df",
   "metadata": {},
   "outputs": [
    {
     "name": "stdout",
     "output_type": "stream",
     "text": [
      "📊 Test Loss = 0.0042\n",
      "\n",
      "🎨 Prediction vs Actual (first 5 samples):\n",
      "1: Pred (r, g): (0.4725, 0.5531) | True (r, g): (0.2777, 0.4242)\n"
     ]
    }
   ],
   "source": [
    "if __name__ == \"__main__\":\n",
    "    main()"
   ]
  }
 ],
 "metadata": {
  "kernelspec": {
   "display_name": "ColorConstancy_env",
   "language": "python",
   "name": "python3"
  },
  "language_info": {
   "codemirror_mode": {
    "name": "ipython",
    "version": 3
   },
   "file_extension": ".py",
   "mimetype": "text/x-python",
   "name": "python",
   "nbconvert_exporter": "python",
   "pygments_lexer": "ipython3",
   "version": "3.13.2"
  }
 },
 "nbformat": 4,
 "nbformat_minor": 5
}
