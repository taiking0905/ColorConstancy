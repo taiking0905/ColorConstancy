{
 "cells": [
  {
   "cell_type": "code",
   "execution_count": null,
   "id": "e4d2002d",
   "metadata": {},
   "outputs": [],
   "source": [
    "import torch\n",
    "import os\n",
    "import json\n",
    "import pandas as pd\n",
    "from torch.utils.data import DataLoader, TensorDataset\n",
    "import torch.nn as nn\n",
    "import matplotlib.pyplot as plt\n"
   ]
  },
  {
   "cell_type": "code",
   "execution_count": 12,
   "id": "65421fbd",
   "metadata": {},
   "outputs": [],
   "source": [
    "def load_dataset(csv_dir, json_path):\n",
    "    # 1. JSON読み込みと辞書化\n",
    "    with open(json_path, 'r') as f:\n",
    "        json_data = json.load(f)\n",
    "    \n",
    "    rgb_dict = {item[\"filename\"]: item[\"real_rgb\"] for item in json_data}\n",
    "\n",
    "    # 2. 特徴量とラベルの蓄積\n",
    "    X_list = []\n",
    "    y_list = []\n",
    "\n",
    "    for filename in os.listdir(csv_dir):\n",
    "        if not filename.endswith(\"_masked.csv\"):\n",
    "            continue\n",
    "\n",
    "        base_id = filename.replace(\"_masked.csv\", \"\")  # 例: 8D5U5524\n",
    "\n",
    "        if base_id not in rgb_dict:\n",
    "            print(f\"Warning: {base_id} not in JSON, skipping\")\n",
    "            continue\n",
    "\n",
    "        csv_path = os.path.join(csv_dir, filename)\n",
    "        df = pd.read_csv(csv_path, header=None)\n",
    "\n",
    "        # 特徴量は1行と仮定してflatten\n",
    "        features = df.values.flatten()\n",
    "\n",
    "        X_list.append(features)\n",
    "\n",
    "        # real_rgbからr, gの比率を計算\n",
    "        R, G, B = rgb_dict[base_id]\n",
    "        total = R + G + B if R + G + B != 0 else 1e-6  # 0割防止\n",
    "\n",
    "        r_ratio = R / total\n",
    "        g_ratio = G / total\n",
    "\n",
    "        y_list.append([r_ratio, g_ratio])\n",
    "\n",
    "    # DataFrameに変換\n",
    "    X = pd.DataFrame(X_list)\n",
    "    y = pd.DataFrame(y_list, columns=[\"r_ratio\", \"g_ratio\"])\n",
    "\n",
    "\n",
    "    return X, y"
   ]
  },
  {
   "cell_type": "code",
   "execution_count": 13,
   "id": "b2f832dc",
   "metadata": {},
   "outputs": [
    {
     "name": "stdout",
     "output_type": "stream",
     "text": [
      "(5, 1324)\n",
      "    r_ratio   g_ratio\n",
      "0  0.311968  0.423124\n",
      "1  0.305714  0.425317\n",
      "2  0.366901  0.446526\n",
      "3  0.354669  0.435492\n",
      "4  0.358548  0.439233\n",
      "0       0\n",
      "1       0\n",
      "2       0\n",
      "3       0\n",
      "4       0\n",
      "       ..\n",
      "1319    0\n",
      "1320    0\n",
      "1321    0\n",
      "1322    0\n",
      "1323    0\n",
      "Name: 0, Length: 1324, dtype: int64\n"
     ]
    }
   ],
   "source": [
    "#load_datasetのテスト\n",
    "X, y = load_dataset(csv_dir=\"../histpre/\", json_path=\"../real_rgb.json\")\n",
    "\n",
    "print(X.shape)  # 特徴量の数 x サンプル数\n",
    "print(y.head()) # RGBのターゲット値\n",
    "\n",
    "print(X.iloc[0])  # 1番目のサンプルの特徴量\n"
   ]
  },
  {
   "cell_type": "code",
   "execution_count": 14,
   "id": "6c09d607",
   "metadata": {},
   "outputs": [],
   "source": [
    "class MLPModel(nn.Module):\n",
    "    def __init__(self, input_dim, hidden_dim, output_dim):\n",
    "        super().__init__()\n",
    "        self.hidden = nn.Linear(input_dim, hidden_dim)\n",
    "        self.output = nn.Linear(hidden_dim, output_dim)\n",
    "        self.sigmoid = nn.Sigmoid()  # 出力を0〜1に制限\n",
    "\n",
    "    def forward(self, x):\n",
    "        # 活性化関数は使用せず、線形変換のみ\n",
    "        h = self.hidden(x)  # 隠れ層（線形のみ）\n",
    "        out = self.output(h)  # 出力層（線形）\n",
    "        out = self.sigmoid(out)  # 0〜1に制限\n",
    "        return out\n"
   ]
  },
  {
   "cell_type": "code",
   "execution_count": 15,
   "id": "a31a3871",
   "metadata": {},
   "outputs": [],
   "source": [
    "\n",
    "def euclidean_loss(pred, target):\n",
    "    return torch.sqrt(((pred - target) ** 2).sum(dim=1)).mean()"
   ]
  },
  {
   "cell_type": "code",
   "execution_count": 16,
   "id": "74caf9f0",
   "metadata": {},
   "outputs": [],
   "source": [
    "def mse_chromaticity_loss(pred, target, eps=1e-8):\n",
    "    # クロマティシティ座標に変換：r = R/(R+G+B), g = G/(R+G+B)\n",
    "    pred_sum = pred.sum(dim=1, keepdim=True) + eps\n",
    "    target_sum = target.sum(dim=1, keepdim=True) + eps\n",
    "\n",
    "    pred_chroma = pred[:, :2] / pred_sum  # (r, g)\n",
    "    target_chroma = target[:, :2] / target_sum\n",
    "\n",
    "    loss = ((pred_chroma - target_chroma) ** 2).mean()\n",
    "    return loss\n"
   ]
  },
  {
   "cell_type": "code",
   "execution_count": 17,
   "id": "576a86e1",
   "metadata": {},
   "outputs": [],
   "source": [
    "def train_one_epoch(model, loader, optimizer, loss_fn):\n",
    "    model.train()  # モデルを訓練モードに設定\n",
    "    total_loss = 0.0\n",
    "\n",
    "    for X_batch, y_batch in loader:\n",
    "        optimizer.zero_grad()               # 勾配をリセット\n",
    "        pred = model(X_batch)               # 順伝播\n",
    "        loss = loss_fn(pred, y_batch)       # 損失計算\n",
    "        loss.backward()                     # 逆伝播\n",
    "        optimizer.step()                    # パラメータ更新\n",
    "\n",
    "        total_loss += loss.item()           # 損失を蓄積\n",
    "\n",
    "    average_loss = total_loss / len(loader)  # バッチ数で割る\n",
    "    return average_loss"
   ]
  },
  {
   "cell_type": "code",
   "execution_count": 18,
   "id": "94de0686",
   "metadata": {},
   "outputs": [],
   "source": [
    "def evaluate(model, loader, loss_fn):\n",
    "    model.eval()  # 評価モードに切り替え\n",
    "    total_loss = 0.0\n",
    "\n",
    "    with torch.no_grad():  # 勾配を計算しない（メモリ節約＆高速化）\n",
    "        for X_batch, y_batch in loader:\n",
    "            pred = model(X_batch)\n",
    "            loss = loss_fn(pred, y_batch)\n",
    "            total_loss += loss.item()\n",
    "\n",
    "    average_loss = total_loss / len(loader)\n",
    "    return average_loss"
   ]
  },
  {
   "cell_type": "code",
   "execution_count": 19,
   "id": "c7165637",
   "metadata": {},
   "outputs": [],
   "source": [
    "\n",
    "def main():\n",
    "    # 1. データ読み込み\n",
    "    X_train_df, y_train_df = load_dataset('../histpre/', '../real_rgb.json')\n",
    "    X_val_df, y_val_df = load_dataset('../histpre', '../real_rgb.json')\n",
    "\n",
    "    # 2. Tensorに変換\n",
    "    X_train = torch.tensor(X_train_df.values, dtype=torch.float32)\n",
    "    y_train = torch.tensor(y_train_df[[\"r_ratio\", \"g_ratio\"]].values, dtype=torch.float32)\n",
    "    X_val = torch.tensor(X_val_df.values, dtype=torch.float32)\n",
    "    y_val = torch.tensor(y_val_df[[\"r_ratio\", \"g_ratio\"]].values, dtype=torch.float32)\n",
    "\n",
    "\n",
    "    # 3. TensorDataset作成\n",
    "    train_dataset = TensorDataset(X_train, y_train)\n",
    "    val_dataset = TensorDataset(X_val, y_val)\n",
    "\n",
    "    # 4. DataLoader作成\n",
    "    train_loader = DataLoader(train_dataset, batch_size=32, shuffle=True)\n",
    "    val_loader = DataLoader(val_dataset, batch_size=32, shuffle=False)\n",
    "\n",
    "    # 5. モデル定義\n",
    "    model = MLPModel(input_dim=X_train.shape[1], hidden_dim=256, output_dim=2)\n",
    "    # SGDオプティマイザで学習\n",
    "    optimizer = torch.optim.SGD(model.parameters(), lr=0.01)\n",
    "    #　損失関数はクロマティシティ座標のMSE\n",
    "    loss_fn = mse_chromaticity_loss\n",
    "\n",
    "    # 6. 学習ループ\n",
    "    num_epochs = 5\n",
    "\n",
    "    # 学習記録用リスト\n",
    "    train_losses = []\n",
    "    val_losses = []\n",
    "\n",
    "    for epoch in range(num_epochs):\n",
    "    \n",
    "        train_loss = train_one_epoch(model, train_loader, optimizer, loss_fn)\n",
    "        val_loss = evaluate(model, val_loader, loss_fn)\n",
    "        print(f\"Epoch {epoch+1:02d}: Train Loss = {train_loss:.4f}, Val Loss = {val_loss:.4f}\")\n",
    "\n",
    "        # ログ保存\n",
    "        train_losses.append(train_loss)\n",
    "        val_losses.append(val_loss)\n",
    "\n",
    "    # 7. モデル保存\n",
    "    torch.save(model.state_dict(), 'mlp_model.pth')\n",
    "   \n",
    "\n",
    "    # 8. 学習曲線の可視化\n",
    "    plt.plot(train_losses, label='Train Loss')\n",
    "    plt.plot(val_losses, label='Validation Loss')\n",
    "    plt.xlabel('Epoch')\n",
    "    plt.ylabel('Loss')\n",
    "    plt.title('Training and Validation Loss')\n",
    "    plt.legend()\n",
    "    plt.grid(True)\n",
    "    plt.show()\n"
   ]
  },
  {
   "cell_type": "code",
   "execution_count": 20,
   "id": "c79233df",
   "metadata": {},
   "outputs": [
    {
     "name": "stdout",
     "output_type": "stream",
     "text": [
      "Epoch 01: Train Loss = 0.0045, Val Loss = 0.0040\n",
      "Epoch 02: Train Loss = 0.0040, Val Loss = 0.0036\n",
      "Epoch 03: Train Loss = 0.0036, Val Loss = 0.0032\n",
      "Epoch 04: Train Loss = 0.0032, Val Loss = 0.0028\n",
      "Epoch 05: Train Loss = 0.0028, Val Loss = 0.0025\n"
     ]
    },
    {
     "data": {
      "image/png": "[encoded data removed]",
      "text/plain": [
       "<Figure size 640x480 with 1 Axes>"
      ]
     },
     "metadata": {},
     "output_type": "display_data"
    }
   ],
   "source": [
    "if __name__ == \"__main__\":\n",
    "    main()"
   ]
  },
  {
   "cell_type": "code",
   "execution_count": 22,
   "id": "b0ce40a5",
   "metadata": {},
   "outputs": [
    {
     "ename": "NameError",
     "evalue": "name '__file__' is not defined",
     "output_type": "error",
     "traceback": [
      "\u001b[31m---------------------------------------------------------------------------\u001b[39m",
      "\u001b[31mNameError\u001b[39m                                 Traceback (most recent call last)",
      "\u001b[36mCell\u001b[39m\u001b[36m \u001b[39m\u001b[32mIn[22]\u001b[39m\u001b[32m, line 3\u001b[39m\n\u001b[32m      1\u001b[39m \u001b[38;5;28;01mfrom\u001b[39;00m\u001b[38;5;250m \u001b[39m\u001b[34;01mpathlib\u001b[39;00m\u001b[38;5;250m \u001b[39m\u001b[38;5;28;01mimport\u001b[39;00m Path\n\u001b[32m----> \u001b[39m\u001b[32m3\u001b[39m BASE_DIR = Path(\u001b[34;43m__file__\u001b[39;49m).resolve().parents[\u001b[32m1\u001b[39m]  \u001b[38;5;66;03m# ../../\u001b[39;00m\n\u001b[32m      4\u001b[39m HISTPRE_DIR = BASE_DIR / \u001b[33m\"\u001b[39m\u001b[33mdata\u001b[39m\u001b[33m\"\u001b[39m / \u001b[33m\"\u001b[39m\u001b[33mhistpre\u001b[39m\u001b[33m\"\u001b[39m\n\u001b[32m      5\u001b[39m \u001b[38;5;28mprint\u001b[39m(BASE_DIR)\n",
      "\u001b[31mNameError\u001b[39m: name '__file__' is not defined"
     ]
    }
   ],
   "source": [
    "from pathlib import Path\n",
    "\n",
    "BASE_DIR = Path(__file__).resolve().parents[1]  # ../../\n",
    "HISTPRE_DIR = BASE_DIR / \"data\" / \"histpre\"\n",
    "print(BASE_DIR)\n",
    "# → /your_project （config.py の2階層上）\n",
    "print(HISTPRE_DIR)\n",
    "# → /your_project/data/histpre\n"
   ]
  }
 ],
 "metadata": {
  "kernelspec": {
   "display_name": "ColorConstancy_env",
   "language": "python",
   "name": "python3"
  },
  "language_info": {
   "codemirror_mode": {
    "name": "ipython",
    "version": 3
   },
   "file_extension": ".py",
   "mimetype": "text/x-python",
   "name": "python",
   "nbconvert_exporter": "python",
   "pygments_lexer": "ipython3",
   "version": "3.13.2"
  }
 },
 "nbformat": 4,
 "nbformat_minor": 5
}
