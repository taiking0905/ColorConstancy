{
 "cells": [
  {
   "cell_type": "code",
   "execution_count": 5,
   "id": "841cead9",
   "metadata": {},
   "outputs": [
    {
     "data": {
      "text/plain": [
       "True"
      ]
     },
     "execution_count": 5,
     "metadata": {},
     "output_type": "execute_result"
    }
   ],
   "source": [
    "import rawpy\n",
    "import cv2\n",
    "\n",
    "with rawpy.imread('../IMG_3826.DNG') as raw:\n",
    "    rgb = raw.postprocess(\n",
    "        use_camera_wb=False,         # カメラのホワイトバランスを使わない\n",
    "        no_auto_bright=True,         # 自動露出補正をしない\n",
    "        output_bps=16,               # 16bit出力\n",
    "        output_color=rawpy.ColorSpace.raw,  # 色変換をしない\n",
    "        demosaic_algorithm=rawpy.DemosaicAlgorithm.LINEAR,  # シンプルなデモザイク\n",
    "        gamma=(1,1),                # ガンマ補正をしない\n",
    "        bright=1.0                  # 明るさ調整なし\n",
    "    )\n",
    "\n",
    "cv2.imwrite('../output_16bit.png', rgb)\n"
   ]
  }
 ],
 "metadata": {
  "kernelspec": {
   "display_name": "ColorConstancy_env",
   "language": "python",
   "name": "python3"
  },
  "language_info": {
   "codemirror_mode": {
    "name": "ipython",
    "version": 3
   },
   "file_extension": ".py",
   "mimetype": "text/x-python",
   "name": "python",
   "nbconvert_exporter": "python",
   "pygments_lexer": "ipython3",
   "version": "3.13.2"
  }
 },
 "nbformat": 4,
 "nbformat_minor": 5
}
