{
 "cells": [
  {
   "cell_type": "code",
   "execution_count": null,
   "id": "841cead9",
   "metadata": {},
   "outputs": [
    {
     "name": "stdout",
     "output_type": "stream",
     "text": [
      "BGR → RGB 変換が完了しました。\n"
     ]
    }
   ],
   "source": [
    "import json\n",
    "\n",
    "# JSONファイルのパス\n",
    "input_path = \"real_rgb.json\"\n",
    "output_path = \"output.json\"\n",
    "\n",
    "# JSONを読み込む\n",
    "with open(input_path, 'r', encoding='utf-8') as f:\n",
    "    data = json.load(f)\n",
    "\n",
    "# 各real_rgbの値から129を引く\n",
    "for item in data:\n",
    "    item['real_rgb'] = [value - 129 for value in item['real_rgb']]\n",
    "\n",
    "# 結果を保存\n",
    "with open(output_path, 'w', encoding='utf-8') as f:\n",
    "    json.dump(data, f, indent=2, ensure_ascii=False)\n",
    "\n",
    "print(\"変換が完了しました。\")\n"
   ]
  }
 ],
 "metadata": {
  "kernelspec": {
   "display_name": "ColorConstancy_env",
   "language": "python",
   "name": "python3"
  },
  "language_info": {
   "codemirror_mode": {
    "name": "ipython",
    "version": 3
   },
   "file_extension": ".py",
   "mimetype": "text/x-python",
   "name": "python",
   "nbconvert_exporter": "python",
   "pygments_lexer": "ipython3",
   "version": "3.13.2"
  }
 },
 "nbformat": 4,
 "nbformat_minor": 5
}
